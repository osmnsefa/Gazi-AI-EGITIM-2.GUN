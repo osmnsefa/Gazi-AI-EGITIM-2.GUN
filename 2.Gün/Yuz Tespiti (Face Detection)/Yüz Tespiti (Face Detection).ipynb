{
 "cells": [
  {
   "cell_type": "code",
   "execution_count": 8,
   "id": "aca074ef",
   "metadata": {},
   "outputs": [],
   "source": [
    "import cv2\n",
    "import mediapipe as mp"
   ]
  },
  {
   "cell_type": "code",
   "execution_count": 9,
   "id": "3f7d383d",
   "metadata": {},
   "outputs": [],
   "source": [
    "cap=cv2.VideoCapture(0)"
   ]
  },
  {
   "cell_type": "code",
   "execution_count": 6,
   "id": "5329a0a8",
   "metadata": {},
   "outputs": [],
   "source": [
    "mpFaceDetection=mp.solutions.face_detection\n",
    "faceDetection = mpFaceDetection.FaceDetection() \n",
    "\n",
    "mpDraw = mp.solutions.drawing_utils"
   ]
  },
  {
   "cell_type": "code",
   "execution_count": 7,
   "id": "7d2666ed",
   "metadata": {},
   "outputs": [],
   "source": [
    "while True:\n",
    "    success,img=cap.read()\n",
    "    imgRGB=cv2.cvtColor(img,cv2.COLOR_BGR2RGB)\n",
    "    \n",
    "    results = faceDetection.process(imgRGB)\n",
    "    \n",
    "    if results.detections:\n",
    "        for id,detection in enumerate(results.detections):\n",
    "            bboxC= detection.location_data.relative_bounding_box\n",
    "            # print(bboxC)\n",
    "            h, w, _= img.shape\n",
    "            bbox = int(bboxC.xmin*w), int(bboxC.ymin*h), int(bboxC.width*w), int(bboxC.height*h)\n",
    "            # print(bbox)\n",
    "            cv2.rectangle(img, bbox, (0,255,255),2) # otomatik olarak kutuyu çiziyor.\n",
    "    cv2.imshow(\"img\",img)\n",
    "    if cv2.waitKey(10) & 0xFF == ord(\"q\"): break\n",
    "cap.release() #serbest bırak\n",
    "cv2.destroyAllWindows()"
   ]
  },
  {
   "cell_type": "code",
   "execution_count": null,
   "id": "f62409a4",
   "metadata": {},
   "outputs": [],
   "source": []
  }
 ],
 "metadata": {
  "kernelspec": {
   "display_name": "Python 3 (ipykernel)",
   "language": "python",
   "name": "python3"
  },
  "language_info": {
   "codemirror_mode": {
    "name": "ipython",
    "version": 3
   },
   "file_extension": ".py",
   "mimetype": "text/x-python",
   "name": "python",
   "nbconvert_exporter": "python",
   "pygments_lexer": "ipython3",
   "version": "3.9.12"
  }
 },
 "nbformat": 4,
 "nbformat_minor": 5
}
